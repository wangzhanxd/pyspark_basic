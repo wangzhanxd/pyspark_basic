{
 "cells": [
  {
   "cell_type": "code",
   "execution_count": 14,
   "metadata": {},
   "outputs": [],
   "source": [
    "#_*_coding:utf-8_*_\n",
    "from pyspark.context import SparkContext\n",
    "from pyspark.sql import SQLContext\n",
    "from pyspark.context import SparkConf\n",
    "from graphframes import *\n",
    "conf = SparkConf().setAppName(\"test\")\n",
    "sc = SparkContext.getOrCreate(conf=conf)\n",
    "spark = SQLContext(sc)\n",
    "df = spark.read.csv('../book-master/data/transport-nodes.csv',header=True)"
   ]
  },
  {
   "cell_type": "code",
   "execution_count": 15,
   "metadata": {},
   "outputs": [
    {
     "name": "stdout",
     "output_type": "stream",
     "text": [
      "+----------------+---------+---------+----------+\n",
      "|              id| latitude|longitude|population|\n",
      "+----------------+---------+---------+----------+\n",
      "|       Amsterdam|52.379189| 4.899431|    821752|\n",
      "|         Utrecht|52.092876| 5.104480|    334176|\n",
      "|        Den Haag|52.078663| 4.288788|    514861|\n",
      "|       Immingham| 53.61239| -0.22219|      9642|\n",
      "|       Doncaster| 53.52285| -1.13116|    302400|\n",
      "|Hoek van Holland|  51.9775|  4.13333|      9382|\n",
      "|      Felixstowe| 51.96375|   1.3511|     23689|\n",
      "|         Ipswich| 52.05917|  1.15545|    133384|\n",
      "|      Colchester| 51.88921|  0.90421|    104390|\n",
      "|          London|51.509865|-0.118092|   8787892|\n",
      "|       Rotterdam|  51.9225|  4.47917|    623652|\n",
      "|           Gouda| 52.01667|  4.70833|     70939|\n",
      "+----------------+---------+---------+----------+\n",
      "\n"
     ]
    }
   ],
   "source": [
    "df.show()"
   ]
  },
  {
   "cell_type": "code",
   "execution_count": 11,
   "metadata": {},
   "outputs": [
    {
     "name": "stdout",
     "output_type": "stream",
     "text": [
      "root\n",
      " |-- id: string (nullable = true)\n",
      " |-- latitude: string (nullable = true)\n",
      " |-- longitude: string (nullable = true)\n",
      " |-- population: string (nullable = true)\n",
      "\n"
     ]
    }
   ],
   "source": [
    "### DSL语法\n",
    "nodes.printSchema()"
   ]
  },
  {
   "cell_type": "code",
   "execution_count": 18,
   "metadata": {},
   "outputs": [
    {
     "name": "stdout",
     "output_type": "stream",
     "text": [
      "+----------------+\n",
      "|              id|\n",
      "+----------------+\n",
      "|       Amsterdam|\n",
      "|         Utrecht|\n",
      "|        Den Haag|\n",
      "|       Immingham|\n",
      "|       Doncaster|\n",
      "|Hoek van Holland|\n",
      "|      Felixstowe|\n",
      "|         Ipswich|\n",
      "|      Colchester|\n",
      "|          London|\n",
      "|       Rotterdam|\n",
      "|           Gouda|\n",
      "+----------------+\n",
      "\n"
     ]
    }
   ],
   "source": [
    "df.select(\"id\").show()"
   ]
  },
  {
   "cell_type": "code",
   "execution_count": 19,
   "metadata": {},
   "outputs": [
    {
     "name": "stdout",
     "output_type": "stream",
     "text": [
      "+----------------+------------------+\n",
      "|             id1|(population + 100)|\n",
      "+----------------+------------------+\n",
      "|       Amsterdam|          821852.0|\n",
      "|         Utrecht|          334276.0|\n",
      "|        Den Haag|          514961.0|\n",
      "|       Immingham|            9742.0|\n",
      "|       Doncaster|          302500.0|\n",
      "|Hoek van Holland|            9482.0|\n",
      "|      Felixstowe|           23789.0|\n",
      "|         Ipswich|          133484.0|\n",
      "|      Colchester|          104490.0|\n",
      "|          London|         8787992.0|\n",
      "|       Rotterdam|          623752.0|\n",
      "|           Gouda|           71039.0|\n",
      "+----------------+------------------+\n",
      "\n"
     ]
    }
   ],
   "source": [
    "df.select(df[\"id\"].alias(\"id1\"),df[\"population\"]+100).show()"
   ]
  },
  {
   "cell_type": "code",
   "execution_count": 20,
   "metadata": {},
   "outputs": [
    {
     "name": "stdout",
     "output_type": "stream",
     "text": [
      "+----------------+-----------+\n",
      "|             id2|population2|\n",
      "+----------------+-----------+\n",
      "|       Amsterdam|   821852.0|\n",
      "|         Utrecht|   334276.0|\n",
      "|        Den Haag|   514961.0|\n",
      "|       Immingham|     9742.0|\n",
      "|       Doncaster|   302500.0|\n",
      "|Hoek van Holland|     9482.0|\n",
      "|      Felixstowe|    23789.0|\n",
      "|         Ipswich|   133484.0|\n",
      "|      Colchester|   104490.0|\n",
      "|          London|  8787992.0|\n",
      "|       Rotterdam|   623752.0|\n",
      "|           Gouda|    71039.0|\n",
      "+----------------+-----------+\n",
      "\n"
     ]
    }
   ],
   "source": [
    "df.select(df[\"id\"].alias(\"id1\"),df[\"population\"]+100).toDF(\"id2\",\"population2\").show()"
   ]
  },
  {
   "cell_type": "code",
   "execution_count": 23,
   "metadata": {},
   "outputs": [
    {
     "name": "stdout",
     "output_type": "stream",
     "text": [
      "+---------+---------+---------+----------+\n",
      "|       id| latitude|longitude|population|\n",
      "+---------+---------+---------+----------+\n",
      "|Amsterdam|52.379189| 4.899431|    821752|\n",
      "|  Utrecht|52.092876| 5.104480|    334176|\n",
      "| Den Haag|52.078663| 4.288788|    514861|\n",
      "|Doncaster| 53.52285| -1.13116|    302400|\n",
      "|   London|51.509865|-0.118092|   8787892|\n",
      "|Rotterdam|  51.9225|  4.47917|    623652|\n",
      "+---------+---------+---------+----------+\n",
      "\n"
     ]
    }
   ],
   "source": [
    "df.filter(df[\"population\"]>300000).show()"
   ]
  },
  {
   "cell_type": "code",
   "execution_count": 25,
   "metadata": {},
   "outputs": [
    {
     "name": "stdout",
     "output_type": "stream",
     "text": [
      "+----------------+-----+\n",
      "|              id|count|\n",
      "+----------------+-----+\n",
      "|       Doncaster|    1|\n",
      "|       Rotterdam|    1|\n",
      "|          London|    1|\n",
      "|        Den Haag|    1|\n",
      "|       Immingham|    1|\n",
      "|       Amsterdam|    1|\n",
      "|      Colchester|    1|\n",
      "|         Utrecht|    1|\n",
      "|           Gouda|    1|\n",
      "|         Ipswich|    1|\n",
      "|Hoek van Holland|    1|\n",
      "|      Felixstowe|    1|\n",
      "+----------------+-----+\n",
      "\n"
     ]
    }
   ],
   "source": [
    "df.groupBy(\"id\").count().show()"
   ]
  },
  {
   "cell_type": "code",
   "execution_count": 26,
   "metadata": {},
   "outputs": [
    {
     "name": "stdout",
     "output_type": "stream",
     "text": [
      "+---------------+\n",
      "|avg(population)|\n",
      "+---------------+\n",
      "|      978013.25|\n",
      "+---------------+\n",
      "\n"
     ]
    }
   ],
   "source": [
    "df.agg({\"population\":\"avg\"}).show()"
   ]
  },
  {
   "cell_type": "code",
   "execution_count": 37,
   "metadata": {},
   "outputs": [],
   "source": [
    "### 创建一张表临时表\n",
    "## 1.6版本\n",
    "#df.registerTempTable(\"city0\")\n",
    "### 2.2版本\n",
    "##df.createTempView(\"city\")\n",
    "df.createOrReplaceTempView(\"city\")"
   ]
  },
  {
   "cell_type": "code",
   "execution_count": 38,
   "metadata": {},
   "outputs": [
    {
     "name": "stdout",
     "output_type": "stream",
     "text": [
      "+----------------+---------+---------+----------+\n",
      "|              id| latitude|longitude|population|\n",
      "+----------------+---------+---------+----------+\n",
      "|       Amsterdam|52.379189| 4.899431|    821752|\n",
      "|         Utrecht|52.092876| 5.104480|    334176|\n",
      "|        Den Haag|52.078663| 4.288788|    514861|\n",
      "|       Immingham| 53.61239| -0.22219|      9642|\n",
      "|       Doncaster| 53.52285| -1.13116|    302400|\n",
      "|Hoek van Holland|  51.9775|  4.13333|      9382|\n",
      "|      Felixstowe| 51.96375|   1.3511|     23689|\n",
      "|         Ipswich| 52.05917|  1.15545|    133384|\n",
      "|      Colchester| 51.88921|  0.90421|    104390|\n",
      "|          London|51.509865|-0.118092|   8787892|\n",
      "|       Rotterdam|  51.9225|  4.47917|    623652|\n",
      "|           Gouda| 52.01667|  4.70833|     70939|\n",
      "+----------------+---------+---------+----------+\n",
      "\n"
     ]
    }
   ],
   "source": [
    "spark.sql(\"select * from city\").show()"
   ]
  },
  {
   "cell_type": "code",
   "execution_count": 48,
   "metadata": {},
   "outputs": [
    {
     "name": "stdout",
     "output_type": "stream",
     "text": [
      "+----------------+---------+---------+----------+\n",
      "|              id| latitude|longitude|population|\n",
      "+----------------+---------+---------+----------+\n",
      "|       Amsterdam|52.379189| 4.899431|    821752|\n",
      "|         Utrecht|52.092876| 5.104480|    334176|\n",
      "|        Den Haag|52.078663| 4.288788|    514861|\n",
      "|       Immingham| 53.61239| -0.22219|      9642|\n",
      "|       Doncaster| 53.52285| -1.13116|    302400|\n",
      "|Hoek van Holland|  51.9775|  4.13333|      9382|\n",
      "|      Felixstowe| 51.96375|   1.3511|     23689|\n",
      "|         Ipswich| 52.05917|  1.15545|    133384|\n",
      "|      Colchester| 51.88921|  0.90421|    104390|\n",
      "|          London|51.509865|-0.118092|   8787892|\n",
      "|       Rotterdam|  51.9225|  4.47917|    623652|\n",
      "|           Gouda| 52.01667|  4.70833|     70939|\n",
      "+----------------+---------+---------+----------+\n",
      "\n"
     ]
    }
   ],
   "source": [
    "### 创建全局的临时视图 不同的spark session中均可访问\n",
    "##df.createGlobalTempView\n",
    "df.createOrReplaceGlobalTempView(\"city2\")\n",
    "spark.sql(\"select * from global_temp.city2\").show()"
   ]
  },
  {
   "cell_type": "code",
   "execution_count": 51,
   "metadata": {},
   "outputs": [],
   "source": [
    "### RDD与DataFrame互操作\n",
    "rdd = sc.textFile(\"./data/wc1.txt\").flatMap(lambda x:x.split(\" \")).map(lambda x:(x,1)).reduceByKey(lambda x,y:x+y)"
   ]
  },
  {
   "cell_type": "code",
   "execution_count": 53,
   "metadata": {},
   "outputs": [
    {
     "data": {
      "text/plain": [
       "[('hello', 4), ('world', 1), ('Ireland', 1), ('ML', 1), ('Neo4j', 1)]"
      ]
     },
     "execution_count": 53,
     "metadata": {},
     "output_type": "execute_result"
    }
   ],
   "source": [
    "rdd.collect()"
   ]
  },
  {
   "cell_type": "code",
   "execution_count": 57,
   "metadata": {},
   "outputs": [],
   "source": [
    "df_temp = rdd.toDF([\"word\",\"cnt\"])"
   ]
  },
  {
   "cell_type": "code",
   "execution_count": 58,
   "metadata": {},
   "outputs": [
    {
     "name": "stdout",
     "output_type": "stream",
     "text": [
      "+-------+---+\n",
      "|   word|cnt|\n",
      "+-------+---+\n",
      "|  hello|  4|\n",
      "|  world|  1|\n",
      "|Ireland|  1|\n",
      "|     ML|  1|\n",
      "|  Neo4j|  1|\n",
      "+-------+---+\n",
      "\n"
     ]
    }
   ],
   "source": [
    "df_temp.show()"
   ]
  },
  {
   "cell_type": "code",
   "execution_count": 59,
   "metadata": {},
   "outputs": [],
   "source": [
    "###通过schemach创建dataframe\n",
    "from pyspark.sql import Row\n",
    "w_cnt = rdd.map(lambda x:Row(word = x[0],cnt = x[1]))\n",
    "df_temp2 = spark.createDataFrame(w_cnt)"
   ]
  },
  {
   "cell_type": "code",
   "execution_count": 61,
   "metadata": {},
   "outputs": [
    {
     "name": "stdout",
     "output_type": "stream",
     "text": [
      "+---+-------+\n",
      "|cnt|   word|\n",
      "+---+-------+\n",
      "|  4|  hello|\n",
      "|  1|  world|\n",
      "|  1|Ireland|\n",
      "|  1|     ML|\n",
      "|  1|  Neo4j|\n",
      "+---+-------+\n",
      "\n"
     ]
    }
   ],
   "source": [
    "df_temp2.show()"
   ]
  },
  {
   "cell_type": "code",
   "execution_count": 83,
   "metadata": {},
   "outputs": [
    {
     "data": {
      "text/plain": [
       "[('cnt', 'bigint'), ('word', 'string')]"
      ]
     },
     "execution_count": 83,
     "metadata": {},
     "output_type": "execute_result"
    }
   ],
   "source": [
    "df_temp2.dtypes"
   ]
  },
  {
   "cell_type": "code",
   "execution_count": 76,
   "metadata": {},
   "outputs": [
    {
     "name": "stdout",
     "output_type": "stream",
     "text": [
      "+-------+---+\n",
      "|   word|cnt|\n",
      "+-------+---+\n",
      "|  hello|  4|\n",
      "|  world|  1|\n",
      "|Ireland|  1|\n",
      "|     ML|  1|\n",
      "|  Neo4j|  1|\n",
      "+-------+---+\n",
      "\n"
     ]
    }
   ],
   "source": [
    "### 定义schema的type\n",
    "from pyspark.sql.types import StructType,StructField,StringType,IntegerType\n",
    "schema = StructType([StructField(\"word\",StringType()),StructField(\"cnt\",IntegerType())])\n",
    "df_temp3 = spark.createDataFrame(w_cnt,schema)\n",
    "df_temp3.show()\n",
    "## spark.read.schema(schema).json(path)\n",
    "#### spark.read.schema(schema).load(path)"
   ]
  },
  {
   "cell_type": "code",
   "execution_count": 85,
   "metadata": {},
   "outputs": [
    {
     "data": {
      "text/plain": [
       "[('word', 'string'), ('cnt', 'int')]"
      ]
     },
     "execution_count": 85,
     "metadata": {},
     "output_type": "execute_result"
    }
   ],
   "source": [
    "df_temp3.dtypes"
   ]
  },
  {
   "cell_type": "code",
   "execution_count": 86,
   "metadata": {},
   "outputs": [],
   "source": [
    "### sparksql和hive集成，需要将hive-site.xml文件和mysql的驱动包放到spark_home中的conf和jars里面\n",
    "### 如果配置了metastore服务，必须还要开启metastore"
   ]
  },
  {
   "cell_type": "code",
   "execution_count": null,
   "metadata": {},
   "outputs": [],
   "source": []
  }
 ],
 "metadata": {
  "kernelspec": {
   "display_name": "Python 3",
   "language": "python",
   "name": "python3"
  },
  "language_info": {
   "codemirror_mode": {
    "name": "ipython",
    "version": 3
   },
   "file_extension": ".py",
   "mimetype": "text/x-python",
   "name": "python",
   "nbconvert_exporter": "python",
   "pygments_lexer": "ipython3",
   "version": "3.7.3"
  }
 },
 "nbformat": 4,
 "nbformat_minor": 2
}
